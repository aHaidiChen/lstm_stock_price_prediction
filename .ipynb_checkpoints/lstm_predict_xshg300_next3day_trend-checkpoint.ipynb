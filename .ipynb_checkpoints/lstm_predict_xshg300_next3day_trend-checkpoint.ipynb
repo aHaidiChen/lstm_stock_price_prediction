{
 "cells": [
  {
   "cell_type": "code",
   "execution_count": 1,
   "metadata": {},
   "outputs": [
    {
     "name": "stderr",
     "output_type": "stream",
     "text": [
      "Using TensorFlow backend.\n"
     ]
    }
   ],
   "source": [
    "from keras.layers import Input, Dense, LSTM\n",
    "from keras.models import Model\n",
    "from keras.layers import *\n",
    "from keras.models import *\n",
    "from keras.optimizers import Adam\n",
    "from keras.callbacks import EarlyStopping"
   ]
  },
  {
   "cell_type": "code",
   "execution_count": 2,
   "metadata": {},
   "outputs": [],
   "source": [
    "import pandas as pd\n",
    "import numpy as np\n",
    "import tensorflow as tf\n",
    "import matplotlib.pyplot as plt\n",
    "%matplotlib inline\n",
    "from sklearn.preprocessing import MinMaxScaler\n",
    "import time"
   ]
  },
  {
   "cell_type": "code",
   "execution_count": 3,
   "metadata": {},
   "outputs": [],
   "source": [
    "df = pd.read_csv(\"data/沪深300小时级别数据.csv\",header=0,index_col=None,sep='\\s+',parse_dates=[0])"
   ]
  },
  {
   "cell_type": "code",
   "execution_count": 4,
   "metadata": {},
   "outputs": [
    {
     "data": {
      "text/html": [
       "<div>\n",
       "<style scoped>\n",
       "    .dataframe tbody tr th:only-of-type {\n",
       "        vertical-align: middle;\n",
       "    }\n",
       "\n",
       "    .dataframe tbody tr th {\n",
       "        vertical-align: top;\n",
       "    }\n",
       "\n",
       "    .dataframe thead th {\n",
       "        text-align: right;\n",
       "    }\n",
       "</style>\n",
       "<table border=\"1\" class=\"dataframe\">\n",
       "  <thead>\n",
       "    <tr style=\"text-align: right;\">\n",
       "      <th></th>\n",
       "      <th>time</th>\n",
       "      <th>open</th>\n",
       "      <th>close</th>\n",
       "      <th>high</th>\n",
       "      <th>low</th>\n",
       "      <th>volume</th>\n",
       "      <th>money</th>\n",
       "    </tr>\n",
       "  </thead>\n",
       "  <tbody>\n",
       "    <tr>\n",
       "      <th>0</th>\n",
       "      <td>2012-01-04 10:30:00</td>\n",
       "      <td>2361.50</td>\n",
       "      <td>2348.51</td>\n",
       "      <td>2365.92</td>\n",
       "      <td>2346.60</td>\n",
       "      <td>1263715000</td>\n",
       "      <td>12097650000</td>\n",
       "    </tr>\n",
       "    <tr>\n",
       "      <th>1</th>\n",
       "      <td>2012-01-04 11:30:00</td>\n",
       "      <td>2348.83</td>\n",
       "      <td>2332.52</td>\n",
       "      <td>2350.21</td>\n",
       "      <td>2331.04</td>\n",
       "      <td>635382000</td>\n",
       "      <td>6084670000</td>\n",
       "    </tr>\n",
       "    <tr>\n",
       "      <th>2</th>\n",
       "      <td>2012-01-04 14:00:00</td>\n",
       "      <td>2332.40</td>\n",
       "      <td>2326.73</td>\n",
       "      <td>2334.76</td>\n",
       "      <td>2323.85</td>\n",
       "      <td>640358000</td>\n",
       "      <td>5843940000</td>\n",
       "    </tr>\n",
       "    <tr>\n",
       "      <th>3</th>\n",
       "      <td>2012-01-04 15:00:00</td>\n",
       "      <td>2327.24</td>\n",
       "      <td>2298.75</td>\n",
       "      <td>2327.24</td>\n",
       "      <td>2298.37</td>\n",
       "      <td>883373800</td>\n",
       "      <td>8406050000</td>\n",
       "    </tr>\n",
       "    <tr>\n",
       "      <th>4</th>\n",
       "      <td>2012-01-05 10:30:00</td>\n",
       "      <td>2290.78</td>\n",
       "      <td>2290.86</td>\n",
       "      <td>2308.68</td>\n",
       "      <td>2282.33</td>\n",
       "      <td>1197403500</td>\n",
       "      <td>10499450880</td>\n",
       "    </tr>\n",
       "    <tr>\n",
       "      <th>5</th>\n",
       "      <td>2012-01-05 11:30:00</td>\n",
       "      <td>2290.87</td>\n",
       "      <td>2306.45</td>\n",
       "      <td>2316.58</td>\n",
       "      <td>2284.62</td>\n",
       "      <td>1132892900</td>\n",
       "      <td>9694943232</td>\n",
       "    </tr>\n",
       "    <tr>\n",
       "      <th>6</th>\n",
       "      <td>2012-01-05 14:00:00</td>\n",
       "      <td>2306.37</td>\n",
       "      <td>2296.03</td>\n",
       "      <td>2308.16</td>\n",
       "      <td>2294.37</td>\n",
       "      <td>665050000</td>\n",
       "      <td>5726093312</td>\n",
       "    </tr>\n",
       "    <tr>\n",
       "      <th>7</th>\n",
       "      <td>2012-01-05 15:00:00</td>\n",
       "      <td>2296.52</td>\n",
       "      <td>2276.39</td>\n",
       "      <td>2296.60</td>\n",
       "      <td>2272.42</td>\n",
       "      <td>1295105600</td>\n",
       "      <td>11593711616</td>\n",
       "    </tr>\n",
       "  </tbody>\n",
       "</table>\n",
       "</div>"
      ],
      "text/plain": [
       "                 time     open    close     high      low      volume  \\\n",
       "0 2012-01-04 10:30:00  2361.50  2348.51  2365.92  2346.60  1263715000   \n",
       "1 2012-01-04 11:30:00  2348.83  2332.52  2350.21  2331.04   635382000   \n",
       "2 2012-01-04 14:00:00  2332.40  2326.73  2334.76  2323.85   640358000   \n",
       "3 2012-01-04 15:00:00  2327.24  2298.75  2327.24  2298.37   883373800   \n",
       "4 2012-01-05 10:30:00  2290.78  2290.86  2308.68  2282.33  1197403500   \n",
       "5 2012-01-05 11:30:00  2290.87  2306.45  2316.58  2284.62  1132892900   \n",
       "6 2012-01-05 14:00:00  2306.37  2296.03  2308.16  2294.37   665050000   \n",
       "7 2012-01-05 15:00:00  2296.52  2276.39  2296.60  2272.42  1295105600   \n",
       "\n",
       "         money  \n",
       "0  12097650000  \n",
       "1   6084670000  \n",
       "2   5843940000  \n",
       "3   8406050000  \n",
       "4  10499450880  \n",
       "5   9694943232  \n",
       "6   5726093312  \n",
       "7  11593711616  "
      ]
     },
     "execution_count": 4,
     "metadata": {},
     "output_type": "execute_result"
    }
   ],
   "source": [
    "df.head(8)"
   ]
  },
  {
   "cell_type": "code",
   "execution_count": 5,
   "metadata": {},
   "outputs": [
    {
     "data": {
      "text/plain": [
       "(8096, 7)"
      ]
     },
     "execution_count": 5,
     "metadata": {},
     "output_type": "execute_result"
    }
   ],
   "source": [
    "df.shape"
   ]
  },
  {
   "cell_type": "code",
   "execution_count": 6,
   "metadata": {},
   "outputs": [],
   "source": [
    "df_feature = df[['close','open','high', 'low', 'volume', 'money']].astype('float')"
   ]
  },
  {
   "cell_type": "code",
   "execution_count": 7,
   "metadata": {},
   "outputs": [],
   "source": [
    "sample_num = df.shape[0]"
   ]
  },
  {
   "cell_type": "code",
   "execution_count": 8,
   "metadata": {},
   "outputs": [],
   "source": [
    "train_num = int(df.shape[0] * 0.8)"
   ]
  },
  {
   "cell_type": "code",
   "execution_count": 9,
   "metadata": {},
   "outputs": [],
   "source": [
    "test_num = df.shape[0] - train_num"
   ]
  },
  {
   "cell_type": "code",
   "execution_count": 10,
   "metadata": {},
   "outputs": [
    {
     "data": {
      "text/plain": [
       "(8096, 6476, 1620)"
      ]
     },
     "execution_count": 10,
     "metadata": {},
     "output_type": "execute_result"
    }
   ],
   "source": [
    "sample_num,train_num,test_num"
   ]
  },
  {
   "cell_type": "code",
   "execution_count": 11,
   "metadata": {},
   "outputs": [
    {
     "name": "stdout",
     "output_type": "stream",
     "text": [
      "(6476, 6) (1620, 6)\n"
     ]
    }
   ],
   "source": [
    "data_train = df_feature.iloc[:train_num, :]\n",
    "data_test = df_feature.iloc[train_num:, :]\n",
    "print(data_train.shape, data_test.shape)"
   ]
  },
  {
   "cell_type": "code",
   "execution_count": 12,
   "metadata": {},
   "outputs": [
    {
     "data": {
      "text/plain": [
       "MinMaxScaler(copy=True, feature_range=(0, 1))"
      ]
     },
     "execution_count": 12,
     "metadata": {},
     "output_type": "execute_result"
    }
   ],
   "source": [
    "scaler = MinMaxScaler(feature_range=(0, 1))\n",
    "scaler.fit(data_train)"
   ]
  },
  {
   "cell_type": "code",
   "execution_count": 13,
   "metadata": {},
   "outputs": [],
   "source": [
    "data_train = scaler.transform(data_train)\n",
    "data_test = scaler.transform(data_test)"
   ]
  },
  {
   "cell_type": "code",
   "execution_count": 14,
   "metadata": {},
   "outputs": [
    {
     "name": "stdout",
     "output_type": "stream",
     "text": [
      "(6476,) (1620,)\n"
     ]
    }
   ],
   "source": [
    "data_train_y = np.array(df_feature.iloc[:train_num, 0])\n",
    "data_test_y = np.array(df_feature.iloc[train_num:, 0])\n",
    "print(data_train_y.shape, data_test_y.shape)"
   ]
  },
  {
   "cell_type": "code",
   "execution_count": 16,
   "metadata": {},
   "outputs": [],
   "source": [
    "PAST_TIME_STEPS = 40\n",
    "NEXT_TIME_STEPS = 12"
   ]
  },
  {
   "cell_type": "code",
   "execution_count": 17,
   "metadata": {},
   "outputs": [],
   "source": [
    "X_train = np.array([data_train[i : i + PAST_TIME_STEPS, :] for i in range(0,data_train.shape[0] - (NEXT_TIME_STEPS+ PAST_TIME_STEPS),4)])\n",
    "X_test = np.array([data_test[i : i + PAST_TIME_STEPS, :] for i in range(0,data_test.shape[0] - (NEXT_TIME_STEPS+ PAST_TIME_STEPS),4)])\n"
   ]
  },
  {
   "cell_type": "code",
   "execution_count": 18,
   "metadata": {},
   "outputs": [],
   "source": [
    "y_train_class = np.array([1 if data_train_y[i + PAST_TIME_STEPS + NEXT_TIME_STEPS-1] - data_train_y[i + PAST_TIME_STEPS-1] > 0 else 0 for i in range(0,data_train.shape[0] - (NEXT_TIME_STEPS+ PAST_TIME_STEPS),4)])\n",
    "y_test_class = np.array([1 if data_test_y[i + PAST_TIME_STEPS + NEXT_TIME_STEPS-1]- data_test_y[i + PAST_TIME_STEPS-1] > 0 else 0 for i in range(0,data_test.shape[0] - (NEXT_TIME_STEPS+ PAST_TIME_STEPS),4)])"
   ]
  },
  {
   "cell_type": "code",
   "execution_count": 19,
   "metadata": {},
   "outputs": [
    {
     "name": "stdout",
     "output_type": "stream",
     "text": [
      "(1606, 40, 6) (1606,) (392, 40, 6) (392,)\n"
     ]
    }
   ],
   "source": [
    "print(X_train.shape, y_train_class.shape, X_test.shape,y_test_class.shape)"
   ]
  },
  {
   "cell_type": "code",
   "execution_count": 20,
   "metadata": {},
   "outputs": [],
   "source": [
    "INPUT_DIM = data_train.shape[1]\n",
    "output_dim = 1\n",
    "batch_size = 32 #每轮训练模型时，样本的数量\n",
    "epochs = 100 #训练60轮次\n",
    "hidden_size = 128\n",
    "lstm_units = 64"
   ]
  },
  {
   "cell_type": "code",
   "execution_count": 21,
   "metadata": {},
   "outputs": [
    {
     "name": "stdout",
     "output_type": "stream",
     "text": [
      "(?, 1, 64)\n"
     ]
    }
   ],
   "source": [
    "inputs = Input(shape=(PAST_TIME_STEPS, INPUT_DIM))\n",
    "#drop1 = Dropout(0.3)(inputs)\n",
    "x = Conv1D(filters = 64, kernel_size = 1, activation = 'relu')(inputs)  #, padding = 'same'\n",
    "#x = Conv1D(filters=128, kernel_size=5, activation='relu')(output1)#embedded_sequences\n",
    "x = MaxPooling1D(pool_size = PAST_TIME_STEPS)(x)\n",
    "x = Dropout(0.1)(x)\n",
    "print(x.shape)"
   ]
  },
  {
   "cell_type": "code",
   "execution_count": 22,
   "metadata": {},
   "outputs": [
    {
     "name": "stdout",
     "output_type": "stream",
     "text": [
      "(?, 128)\n"
     ]
    }
   ],
   "source": [
    "lstm_out = Bidirectional(LSTM(lstm_units, activation='relu'), name='bilstm')(x)\n",
    "#lstm_out = LSTM(lstm_units,activation='relu')(x)\n",
    "print(lstm_out.shape)"
   ]
  },
  {
   "cell_type": "code",
   "execution_count": 23,
   "metadata": {},
   "outputs": [],
   "source": [
    "# ATTENTION PART STARTS HERE\n",
    "attention_probs = Dense(128, activation='sigmoid', name='attention_vec')(lstm_out)\n",
    "#attention_mul=layers.merge([stm_out,attention_probs], output_shape],mode='concat',concat_axis=1))\n",
    "attention_mul =Multiply()([lstm_out, attention_probs])\n",
    "#attention_mul = merge([lstm_out, attention_probs],output_shape=32, name='attention_mul', mode='mul')"
   ]
  },
  {
   "cell_type": "code",
   "execution_count": 24,
   "metadata": {},
   "outputs": [
    {
     "name": "stdout",
     "output_type": "stream",
     "text": [
      "__________________________________________________________________________________________________\n",
      "Layer (type)                    Output Shape         Param #     Connected to                     \n",
      "==================================================================================================\n",
      "input_1 (InputLayer)            (None, 40, 6)        0                                            \n",
      "__________________________________________________________________________________________________\n",
      "conv1d_1 (Conv1D)               (None, 40, 64)       448         input_1[0][0]                    \n",
      "__________________________________________________________________________________________________\n",
      "max_pooling1d_1 (MaxPooling1D)  (None, 1, 64)        0           conv1d_1[0][0]                   \n",
      "__________________________________________________________________________________________________\n",
      "dropout_1 (Dropout)             (None, 1, 64)        0           max_pooling1d_1[0][0]            \n",
      "__________________________________________________________________________________________________\n",
      "bilstm (Bidirectional)          (None, 128)          66048       dropout_1[0][0]                  \n",
      "__________________________________________________________________________________________________\n",
      "attention_vec (Dense)           (None, 128)          16512       bilstm[0][0]                     \n",
      "__________________________________________________________________________________________________\n",
      "multiply_1 (Multiply)           (None, 128)          0           bilstm[0][0]                     \n",
      "                                                                 attention_vec[0][0]              \n",
      "__________________________________________________________________________________________________\n",
      "dense_1 (Dense)                 (None, 1)            129         multiply_1[0][0]                 \n",
      "==================================================================================================\n",
      "Total params: 83,137\n",
      "Trainable params: 83,137\n",
      "Non-trainable params: 0\n",
      "__________________________________________________________________________________________________\n",
      "None\n"
     ]
    }
   ],
   "source": [
    "output_class = Dense(1, activation='sigmoid')(attention_mul)\n",
    "#output = Dense(10, activation='sigmoid')(drop2)\n",
    "\n",
    "model_class = Model(inputs=inputs, outputs=output_class)\n",
    "print(model_class.summary())"
   ]
  },
  {
   "cell_type": "code",
   "execution_count": 25,
   "metadata": {},
   "outputs": [
    {
     "name": "stdout",
     "output_type": "stream",
     "text": [
      "Train on 1606 samples, validate on 392 samples\n",
      "Epoch 1/100\n",
      "1606/1606 [==============================] - 2s 1ms/step - loss: 0.6934 - acc: 0.4857 - val_loss: 0.6924 - val_acc: 0.5281\n",
      "Epoch 2/100\n",
      "1606/1606 [==============================] - 0s 128us/step - loss: 0.6923 - acc: 0.5255 - val_loss: 0.6922 - val_acc: 0.5281\n",
      "Epoch 3/100\n",
      "1606/1606 [==============================] - 0s 127us/step - loss: 0.6920 - acc: 0.5255 - val_loss: 0.6923 - val_acc: 0.5281\n",
      "Epoch 4/100\n",
      "1606/1606 [==============================] - 0s 132us/step - loss: 0.6918 - acc: 0.5255 - val_loss: 0.6925 - val_acc: 0.5281\n",
      "Epoch 5/100\n",
      "1606/1606 [==============================] - 0s 138us/step - loss: 0.6917 - acc: 0.5255 - val_loss: 0.6926 - val_acc: 0.5281\n",
      "Epoch 6/100\n",
      "1606/1606 [==============================] - 0s 133us/step - loss: 0.6916 - acc: 0.5255 - val_loss: 0.6925 - val_acc: 0.5281\n",
      "Epoch 7/100\n",
      "1606/1606 [==============================] - 0s 130us/step - loss: 0.6915 - acc: 0.5255 - val_loss: 0.6925 - val_acc: 0.5281\n",
      "Epoch 8/100\n",
      "1606/1606 [==============================] - 0s 134us/step - loss: 0.6916 - acc: 0.5255 - val_loss: 0.6925 - val_acc: 0.5281\n",
      "Epoch 9/100\n",
      "1606/1606 [==============================] - 0s 137us/step - loss: 0.6913 - acc: 0.5255 - val_loss: 0.6924 - val_acc: 0.5281\n",
      "Epoch 10/100\n",
      "1606/1606 [==============================] - 0s 132us/step - loss: 0.6913 - acc: 0.5255 - val_loss: 0.6924 - val_acc: 0.5281\n",
      "Epoch 11/100\n",
      "1606/1606 [==============================] - 0s 125us/step - loss: 0.6911 - acc: 0.5255 - val_loss: 0.6924 - val_acc: 0.5281\n",
      "Epoch 12/100\n",
      "1606/1606 [==============================] - 0s 130us/step - loss: 0.6911 - acc: 0.5255 - val_loss: 0.6924 - val_acc: 0.5281\n",
      "Epoch 00012: early stopping\n"
     ]
    }
   ],
   "source": [
    "model_class.compile(loss='binary_crossentropy', optimizer='adam', metrics=['accuracy'])\n",
    "# simple early stopping\n",
    "es = EarlyStopping(monitor='val_loss', mode='min', verbose=1, patience=10)\n",
    "# fit model\n",
    "history_class = model_class.fit(X_train, y_train_class,validation_data=(X_test, y_test_class), epochs=epochs, batch_size=batch_size, shuffle=False, callbacks=[es])\n",
    "y_pred_class = model_class.predict(X_test)"
   ]
  },
  {
   "cell_type": "code",
   "execution_count": 26,
   "metadata": {},
   "outputs": [
    {
     "name": "stdout",
     "output_type": "stream",
     "text": [
      "1606/1606 [==============================] - 0s 44us/step\n",
      "392/392 [==============================] - 0s 46us/step\n",
      "Train: 0.526, Test: 0.528\n"
     ]
    }
   ],
   "source": [
    "# evaluate the model\n",
    "_, train_acc = model_class.evaluate(X_train, y_train_class, verbose=1)\n",
    "_, test_acc = model_class.evaluate(X_test, y_test_class, verbose=1)\n",
    "print('Train: %.3f, Test: %.3f' % (train_acc, test_acc))"
   ]
  },
  {
   "cell_type": "code",
   "execution_count": 27,
   "metadata": {},
   "outputs": [
    {
     "data": {
      "image/png": "[encoded data removed]",
      "text/plain": [
       "<Figure size 432x288 with 1 Axes>"
      ]
     },
     "metadata": {
      "needs_background": "light"
     },
     "output_type": "display_data"
    }
   ],
   "source": [
    "# plot training history\n",
    "plt.plot(history_class.history['loss'], label='train')\n",
    "plt.plot(history_class.history['val_loss'], label='test')\n",
    "plt.legend()\n",
    "plt.show()"
   ]
  },
  {
   "cell_type": "code",
   "execution_count": null,
   "metadata": {},
   "outputs": [],
   "source": []
  }
 ],
 "metadata": {
  "kernelspec": {
   "display_name": "Python [conda env:py35]",
   "language": "python",
   "name": "conda-env-py35-py"
  },
  "language_info": {
   "codemirror_mode": {
    "name": "ipython",
    "version": 3
   },
   "file_extension": ".py",
   "mimetype": "text/x-python",
   "name": "python",
   "nbconvert_exporter": "python",
   "pygments_lexer": "ipython3",
   "version": "3.5.6"
  }
 },
 "nbformat": 4,
 "nbformat_minor": 2
}
