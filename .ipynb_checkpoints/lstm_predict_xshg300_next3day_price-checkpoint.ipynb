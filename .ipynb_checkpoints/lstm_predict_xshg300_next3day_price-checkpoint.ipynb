{
 "cells": [
  {
   "cell_type": "code",
   "execution_count": 1,
   "metadata": {},
   "outputs": [
    {
     "name": "stderr",
     "output_type": "stream",
     "text": [
      "Using TensorFlow backend.\n"
     ]
    }
   ],
   "source": [
    "from keras.layers import Input, Dense, LSTM\n",
    "from keras.models import Model\n",
    "from keras.layers import *\n",
    "from keras.models import *\n",
    "from keras.optimizers import Adam\n",
    "from keras.callbacks import EarlyStopping"
   ]
  },
  {
   "cell_type": "code",
   "execution_count": 2,
   "metadata": {},
   "outputs": [],
   "source": [
    "import pandas as pd\n",
    "import numpy as np\n",
    "import tensorflow as tf\n",
    "import matplotlib.pyplot as plt\n",
    "%matplotlib inline\n",
    "from sklearn.preprocessing import MinMaxScaler\n",
    "import time"
   ]
  },
  {
   "cell_type": "code",
   "execution_count": 3,
   "metadata": {},
   "outputs": [],
   "source": [
    "df = pd.read_csv(\"data/沪深300天级别数据.csv\",header=0,index_col=None,sep='\\s+',parse_dates=[0])"
   ]
  },
  {
   "cell_type": "code",
   "execution_count": 4,
   "metadata": {},
   "outputs": [
    {
     "data": {
      "text/html": [
       "<div>\n",
       "<style scoped>\n",
       "    .dataframe tbody tr th:only-of-type {\n",
       "        vertical-align: middle;\n",
       "    }\n",
       "\n",
       "    .dataframe tbody tr th {\n",
       "        vertical-align: top;\n",
       "    }\n",
       "\n",
       "    .dataframe thead th {\n",
       "        text-align: right;\n",
       "    }\n",
       "</style>\n",
       "<table border=\"1\" class=\"dataframe\">\n",
       "  <thead>\n",
       "    <tr style=\"text-align: right;\">\n",
       "      <th></th>\n",
       "      <th>time</th>\n",
       "      <th>open</th>\n",
       "      <th>close</th>\n",
       "      <th>high</th>\n",
       "      <th>low</th>\n",
       "      <th>volume</th>\n",
       "      <th>money</th>\n",
       "    </tr>\n",
       "  </thead>\n",
       "  <tbody>\n",
       "    <tr>\n",
       "      <th>0</th>\n",
       "      <td>2012-01-04</td>\n",
       "      <td>2361.50</td>\n",
       "      <td>2298.75</td>\n",
       "      <td>2365.99</td>\n",
       "      <td>2298.30</td>\n",
       "      <td>3434456700</td>\n",
       "      <td>32572551267</td>\n",
       "    </tr>\n",
       "    <tr>\n",
       "      <th>1</th>\n",
       "      <td>2012-01-05</td>\n",
       "      <td>2290.78</td>\n",
       "      <td>2276.39</td>\n",
       "      <td>2316.66</td>\n",
       "      <td>2272.15</td>\n",
       "      <td>4301648000</td>\n",
       "      <td>37635272074</td>\n",
       "    </tr>\n",
       "    <tr>\n",
       "      <th>2</th>\n",
       "      <td>2012-01-06</td>\n",
       "      <td>2274.35</td>\n",
       "      <td>2290.60</td>\n",
       "      <td>2291.89</td>\n",
       "      <td>2254.57</td>\n",
       "      <td>3519899200</td>\n",
       "      <td>31079362325</td>\n",
       "    </tr>\n",
       "    <tr>\n",
       "      <th>3</th>\n",
       "      <td>2012-01-09</td>\n",
       "      <td>2291.18</td>\n",
       "      <td>2368.57</td>\n",
       "      <td>2368.89</td>\n",
       "      <td>2271.72</td>\n",
       "      <td>5472734100</td>\n",
       "      <td>51478126954</td>\n",
       "    </tr>\n",
       "    <tr>\n",
       "      <th>4</th>\n",
       "      <td>2012-01-10</td>\n",
       "      <td>2365.77</td>\n",
       "      <td>2447.35</td>\n",
       "      <td>2449.95</td>\n",
       "      <td>2361.28</td>\n",
       "      <td>8115498900</td>\n",
       "      <td>75249157103</td>\n",
       "    </tr>\n",
       "    <tr>\n",
       "      <th>5</th>\n",
       "      <td>2012-01-11</td>\n",
       "      <td>2444.76</td>\n",
       "      <td>2435.61</td>\n",
       "      <td>2453.15</td>\n",
       "      <td>2423.32</td>\n",
       "      <td>5870567400</td>\n",
       "      <td>57587219272</td>\n",
       "    </tr>\n",
       "    <tr>\n",
       "      <th>6</th>\n",
       "      <td>2012-01-12</td>\n",
       "      <td>2426.82</td>\n",
       "      <td>2435.22</td>\n",
       "      <td>2464.38</td>\n",
       "      <td>2423.32</td>\n",
       "      <td>4712127500</td>\n",
       "      <td>47877407259</td>\n",
       "    </tr>\n",
       "    <tr>\n",
       "      <th>7</th>\n",
       "      <td>2012-01-13</td>\n",
       "      <td>2438.41</td>\n",
       "      <td>2394.33</td>\n",
       "      <td>2445.79</td>\n",
       "      <td>2374.55</td>\n",
       "      <td>4551399700</td>\n",
       "      <td>47228338588</td>\n",
       "    </tr>\n",
       "  </tbody>\n",
       "</table>\n",
       "</div>"
      ],
      "text/plain": [
       "        time     open    close     high      low      volume        money\n",
       "0 2012-01-04  2361.50  2298.75  2365.99  2298.30  3434456700  32572551267\n",
       "1 2012-01-05  2290.78  2276.39  2316.66  2272.15  4301648000  37635272074\n",
       "2 2012-01-06  2274.35  2290.60  2291.89  2254.57  3519899200  31079362325\n",
       "3 2012-01-09  2291.18  2368.57  2368.89  2271.72  5472734100  51478126954\n",
       "4 2012-01-10  2365.77  2447.35  2449.95  2361.28  8115498900  75249157103\n",
       "5 2012-01-11  2444.76  2435.61  2453.15  2423.32  5870567400  57587219272\n",
       "6 2012-01-12  2426.82  2435.22  2464.38  2423.32  4712127500  47877407259\n",
       "7 2012-01-13  2438.41  2394.33  2445.79  2374.55  4551399700  47228338588"
      ]
     },
     "execution_count": 4,
     "metadata": {},
     "output_type": "execute_result"
    }
   ],
   "source": [
    "df.head(8)"
   ]
  },
  {
   "cell_type": "code",
   "execution_count": 27,
   "metadata": {},
   "outputs": [
    {
     "data": {
      "text/plain": [
       "(2024, 7)"
      ]
     },
     "execution_count": 27,
     "metadata": {},
     "output_type": "execute_result"
    }
   ],
   "source": [
    "df.shape"
   ]
  },
  {
   "cell_type": "code",
   "execution_count": 28,
   "metadata": {},
   "outputs": [],
   "source": [
    "df_feature = df[['close','open','high', 'low', 'volume', 'money']].astype('float')"
   ]
  },
  {
   "cell_type": "code",
   "execution_count": 29,
   "metadata": {},
   "outputs": [],
   "source": [
    "sample_num = df.shape[0]"
   ]
  },
  {
   "cell_type": "code",
   "execution_count": 30,
   "metadata": {},
   "outputs": [],
   "source": [
    "train_num = int(df.shape[0] * 0.8)"
   ]
  },
  {
   "cell_type": "code",
   "execution_count": 31,
   "metadata": {},
   "outputs": [],
   "source": [
    "test_num = df.shape[0] - train_num"
   ]
  },
  {
   "cell_type": "code",
   "execution_count": 32,
   "metadata": {},
   "outputs": [
    {
     "data": {
      "text/plain": [
       "(2024, 1619, 405)"
      ]
     },
     "execution_count": 32,
     "metadata": {},
     "output_type": "execute_result"
    }
   ],
   "source": [
    "sample_num,train_num,test_num"
   ]
  },
  {
   "cell_type": "code",
   "execution_count": 33,
   "metadata": {},
   "outputs": [
    {
     "name": "stdout",
     "output_type": "stream",
     "text": [
      "(1619, 6) (405, 6)\n"
     ]
    }
   ],
   "source": [
    "data_train = df_feature.iloc[:train_num, :]\n",
    "data_test = df_feature.iloc[train_num:, :]\n",
    "print(data_train.shape, data_test.shape)"
   ]
  },
  {
   "cell_type": "code",
   "execution_count": 34,
   "metadata": {},
   "outputs": [
    {
     "data": {
      "text/plain": [
       "MinMaxScaler(copy=True, feature_range=(0, 1))"
      ]
     },
     "execution_count": 34,
     "metadata": {},
     "output_type": "execute_result"
    }
   ],
   "source": [
    "scaler = MinMaxScaler(feature_range=(0, 1))\n",
    "scaler.fit(data_train)"
   ]
  },
  {
   "cell_type": "code",
   "execution_count": 35,
   "metadata": {},
   "outputs": [],
   "source": [
    "data_train = scaler.transform(data_train)\n",
    "data_test = scaler.transform(data_test)"
   ]
  },
  {
   "cell_type": "code",
   "execution_count": 36,
   "metadata": {},
   "outputs": [
    {
     "name": "stdout",
     "output_type": "stream",
     "text": [
      "(1619,) (405,)\n"
     ]
    }
   ],
   "source": [
    "data_train_y = np.array(df_feature.iloc[:train_num, 0])\n",
    "data_test_y = np.array(df_feature.iloc[train_num:, 0])\n",
    "print(data_train_y.shape, data_test_y.shape)"
   ]
  },
  {
   "cell_type": "code",
   "execution_count": 37,
   "metadata": {},
   "outputs": [],
   "source": [
    "PAST_TIME_STEPS = 10\n",
    "NEXT_TIME_STEPS = 3"
   ]
  },
  {
   "cell_type": "code",
   "execution_count": 38,
   "metadata": {},
   "outputs": [],
   "source": [
    "#X_train = np.array([data_train[i : i + PAST_TIME_STEPS, :] for i in range(0,data_train.shape[0] - (NEXT_TIME_STEPS+ PAST_TIME_STEPS),4)])\n",
    "#X_test = np.array([data_test[i : i + PAST_TIME_STEPS, :] for i in range(0,data_test.shape[0] - (NEXT_TIME_STEPS+ PAST_TIME_STEPS),4)])\n",
    "X_train = np.array([data_train[i : i + PAST_TIME_STEPS, :] for i in range(0,data_train.shape[0] - (NEXT_TIME_STEPS+ PAST_TIME_STEPS),1)])\n",
    "X_test = np.array([data_test[i : i + PAST_TIME_STEPS, :] for i in range(0,data_test.shape[0] - (NEXT_TIME_STEPS+ PAST_TIME_STEPS),1)])"
   ]
  },
  {
   "cell_type": "code",
   "execution_count": 39,
   "metadata": {},
   "outputs": [],
   "source": [
    "#y_train_regression = np.array([data_train_y[i + PAST_TIME_STEPS + NEXT_TIME_STEPS-1] for i in range(0,data_train.shape[0] - (NEXT_TIME_STEPS+ PAST_TIME_STEPS),4)])\n",
    "#y_test_regression = np.array([data_test_y[i + PAST_TIME_STEPS + NEXT_TIME_STEPS-1] for i in range(0,data_test.shape[0] - (NEXT_TIME_STEPS+ PAST_TIME_STEPS),4)])\n",
    "\n",
    "y_train_regression = np.array([data_train_y[i + PAST_TIME_STEPS + NEXT_TIME_STEPS] for i in range(0,data_train.shape[0] - (NEXT_TIME_STEPS+ PAST_TIME_STEPS),1)])\n",
    "y_test_regression = np.array([data_test_y[i + PAST_TIME_STEPS + NEXT_TIME_STEPS] for i in range(0,data_test.shape[0] - (NEXT_TIME_STEPS+ PAST_TIME_STEPS),1)])"
   ]
  },
  {
   "cell_type": "code",
   "execution_count": 40,
   "metadata": {},
   "outputs": [
    {
     "name": "stdout",
     "output_type": "stream",
     "text": [
      "(1606, 10, 6) (1606,) (392, 10, 6) (392,)\n"
     ]
    }
   ],
   "source": [
    "print(X_train.shape, y_train_regression.shape, X_test.shape,y_test_regression.shape)"
   ]
  },
  {
   "cell_type": "code",
   "execution_count": 24,
   "metadata": {},
   "outputs": [],
   "source": [
    "INPUT_DIM = data_train.shape[1]\n",
    "output_dim = 1\n",
    "batch_size = 8 #每轮训练模型时，样本的数量\n",
    "epochs = 100 #训练60轮次\n",
    "hidden_size = 128\n",
    "lstm_units = 64"
   ]
  },
  {
   "cell_type": "code",
   "execution_count": 25,
   "metadata": {},
   "outputs": [],
   "source": [
    "def LSTM_fun(n_input,train_x,train_y,predict_x,prediction_y,seq_len=5):\n",
    "    #LSTM\n",
    "    lr=0.001\n",
    "    lstm_size = 100  #lstm cell数量，基于数据量调整\n",
    "    epoch_num = 10  #打印次数，和n_batch相乘便是迭代次数\n",
    "    n_batch = 300\n",
    "    lookback = seq_len\n",
    "    tf.reset_default_graph()\n",
    "\n",
    "\n",
    "    x = tf.placeholder(tf.float32,[None,lookback,n_input])\n",
    "    y = tf.placeholder(tf.float32,[None,1])\n",
    "\n",
    "    weights = tf.Variable(tf.truncated_normal([lstm_size,1],stddev=0.1))\n",
    "    biases = tf.Variable(tf.constant(0.1,shape=[1]))\n",
    "\n",
    "    def LSTM_net(x,weights,biases):\n",
    "        lstm_cell = tf.contrib.rnn.LSTMCell(lstm_size,name='basic_lstm_cell') #.BasicLSTMCell(lstm_size)\n",
    "        output,final_state = tf.nn.dynamic_rnn(lstm_cell,x,dtype=tf.float32)\n",
    "        results = tf.matmul(final_state[1],weights)+biases\n",
    "        return results\n",
    "\n",
    "    prediction = LSTM_net(x,weights,biases)\n",
    "\n",
    "    loss = tf.reduce_mean(tf.square(y - prediction))\n",
    "\n",
    "    #train_step = tf.train.GradientDescentOptimizer(lr).minimize(loss)\n",
    "    train_step = tf.train.AdamOptimizer(lr).minimize(loss)\n",
    "\n",
    "    init = tf.global_variables_initializer()\n",
    "    with tf.Session() as sess:\n",
    "        sess.run(init)\n",
    "        for i in range(epoch_num):\n",
    "            for j in range(n_batch):\n",
    "                sess.run(train_step,feed_dict={x:train_x,y:train_y})\n",
    "                train_loss = sess.run(loss,feed_dict={x:train_x,y:train_y})\n",
    "            print('train loss is'+ str(train_loss))\n",
    "        prediction_res = sess.run(prediction,feed_dict={x:predict_x})\n",
    "    return prediction_res\n"
   ]
  },
  {
   "cell_type": "code",
   "execution_count": 26,
   "metadata": {},
   "outputs": [
    {
     "ename": "ValueError",
     "evalue": "Cannot feed value of shape (1606,) for Tensor 'Placeholder_1:0', which has shape '(?, 1)'",
     "output_type": "error",
     "traceback": [
      "\u001b[1;31m---------------------------------------------------------------------------\u001b[0m",
      "\u001b[1;31mValueError\u001b[0m                                Traceback (most recent call last)",
      "\u001b[1;32m<ipython-input-26-7b99b2bf09a8>\u001b[0m in \u001b[0;36m<module>\u001b[1;34m\u001b[0m\n\u001b[1;32m----> 1\u001b[1;33m \u001b[0my_pred_regression\u001b[0m \u001b[1;33m=\u001b[0m \u001b[0mLSTM_fun\u001b[0m\u001b[1;33m(\u001b[0m\u001b[0mINPUT_DIM\u001b[0m\u001b[1;33m,\u001b[0m \u001b[0mX_train\u001b[0m\u001b[1;33m,\u001b[0m \u001b[0my_train_regression\u001b[0m\u001b[1;33m,\u001b[0m \u001b[0mX_test\u001b[0m\u001b[1;33m,\u001b[0m \u001b[0my_test_regression\u001b[0m\u001b[1;33m,\u001b[0m\u001b[0mseq_len\u001b[0m\u001b[1;33m=\u001b[0m\u001b[0mPAST_TIME_STEPS\u001b[0m\u001b[1;33m)\u001b[0m\u001b[1;33m\u001b[0m\u001b[0m\n\u001b[0m",
      "\u001b[1;32m<ipython-input-25-8181b4c750d0>\u001b[0m in \u001b[0;36mLSTM_fun\u001b[1;34m(n_input, train_x, train_y, predict_x, prediction_y, seq_len)\u001b[0m\n\u001b[0;32m     33\u001b[0m         \u001b[1;32mfor\u001b[0m \u001b[0mi\u001b[0m \u001b[1;32min\u001b[0m \u001b[0mrange\u001b[0m\u001b[1;33m(\u001b[0m\u001b[0mepoch_num\u001b[0m\u001b[1;33m)\u001b[0m\u001b[1;33m:\u001b[0m\u001b[1;33m\u001b[0m\u001b[0m\n\u001b[0;32m     34\u001b[0m             \u001b[1;32mfor\u001b[0m \u001b[0mj\u001b[0m \u001b[1;32min\u001b[0m \u001b[0mrange\u001b[0m\u001b[1;33m(\u001b[0m\u001b[0mn_batch\u001b[0m\u001b[1;33m)\u001b[0m\u001b[1;33m:\u001b[0m\u001b[1;33m\u001b[0m\u001b[0m\n\u001b[1;32m---> 35\u001b[1;33m                 \u001b[0msess\u001b[0m\u001b[1;33m.\u001b[0m\u001b[0mrun\u001b[0m\u001b[1;33m(\u001b[0m\u001b[0mtrain_step\u001b[0m\u001b[1;33m,\u001b[0m\u001b[0mfeed_dict\u001b[0m\u001b[1;33m=\u001b[0m\u001b[1;33m{\u001b[0m\u001b[0mx\u001b[0m\u001b[1;33m:\u001b[0m\u001b[0mtrain_x\u001b[0m\u001b[1;33m,\u001b[0m\u001b[0my\u001b[0m\u001b[1;33m:\u001b[0m\u001b[0mtrain_y\u001b[0m\u001b[1;33m}\u001b[0m\u001b[1;33m)\u001b[0m\u001b[1;33m\u001b[0m\u001b[0m\n\u001b[0m\u001b[0;32m     36\u001b[0m                 \u001b[0mtrain_loss\u001b[0m \u001b[1;33m=\u001b[0m \u001b[0msess\u001b[0m\u001b[1;33m.\u001b[0m\u001b[0mrun\u001b[0m\u001b[1;33m(\u001b[0m\u001b[0mloss\u001b[0m\u001b[1;33m,\u001b[0m\u001b[0mfeed_dict\u001b[0m\u001b[1;33m=\u001b[0m\u001b[1;33m{\u001b[0m\u001b[0mx\u001b[0m\u001b[1;33m:\u001b[0m\u001b[0mtrain_x\u001b[0m\u001b[1;33m,\u001b[0m\u001b[0my\u001b[0m\u001b[1;33m:\u001b[0m\u001b[0mtrain_y\u001b[0m\u001b[1;33m}\u001b[0m\u001b[1;33m)\u001b[0m\u001b[1;33m\u001b[0m\u001b[0m\n\u001b[0;32m     37\u001b[0m             \u001b[0mprint\u001b[0m\u001b[1;33m(\u001b[0m\u001b[1;34m'train loss is'\u001b[0m\u001b[1;33m+\u001b[0m \u001b[0mstr\u001b[0m\u001b[1;33m(\u001b[0m\u001b[0mtrain_loss\u001b[0m\u001b[1;33m)\u001b[0m\u001b[1;33m)\u001b[0m\u001b[1;33m\u001b[0m\u001b[0m\n",
      "\u001b[1;32m~\\Anaconda3\\envs\\py35\\lib\\site-packages\\tensorflow\\python\\client\\session.py\u001b[0m in \u001b[0;36mrun\u001b[1;34m(self, fetches, feed_dict, options, run_metadata)\u001b[0m\n\u001b[0;32m    927\u001b[0m     \u001b[1;32mtry\u001b[0m\u001b[1;33m:\u001b[0m\u001b[1;33m\u001b[0m\u001b[0m\n\u001b[0;32m    928\u001b[0m       result = self._run(None, fetches, feed_dict, options_ptr,\n\u001b[1;32m--> 929\u001b[1;33m                          run_metadata_ptr)\n\u001b[0m\u001b[0;32m    930\u001b[0m       \u001b[1;32mif\u001b[0m \u001b[0mrun_metadata\u001b[0m\u001b[1;33m:\u001b[0m\u001b[1;33m\u001b[0m\u001b[0m\n\u001b[0;32m    931\u001b[0m         \u001b[0mproto_data\u001b[0m \u001b[1;33m=\u001b[0m \u001b[0mtf_session\u001b[0m\u001b[1;33m.\u001b[0m\u001b[0mTF_GetBuffer\u001b[0m\u001b[1;33m(\u001b[0m\u001b[0mrun_metadata_ptr\u001b[0m\u001b[1;33m)\u001b[0m\u001b[1;33m\u001b[0m\u001b[0m\n",
      "\u001b[1;32m~\\Anaconda3\\envs\\py35\\lib\\site-packages\\tensorflow\\python\\client\\session.py\u001b[0m in \u001b[0;36m_run\u001b[1;34m(self, handle, fetches, feed_dict, options, run_metadata)\u001b[0m\n\u001b[0;32m   1126\u001b[0m                              \u001b[1;34m'which has shape %r'\u001b[0m \u001b[1;33m%\u001b[0m\u001b[1;33m\u001b[0m\u001b[0m\n\u001b[0;32m   1127\u001b[0m                              (np_val.shape, subfeed_t.name,\n\u001b[1;32m-> 1128\u001b[1;33m                               str(subfeed_t.get_shape())))\n\u001b[0m\u001b[0;32m   1129\u001b[0m           \u001b[1;32mif\u001b[0m \u001b[1;32mnot\u001b[0m \u001b[0mself\u001b[0m\u001b[1;33m.\u001b[0m\u001b[0mgraph\u001b[0m\u001b[1;33m.\u001b[0m\u001b[0mis_feedable\u001b[0m\u001b[1;33m(\u001b[0m\u001b[0msubfeed_t\u001b[0m\u001b[1;33m)\u001b[0m\u001b[1;33m:\u001b[0m\u001b[1;33m\u001b[0m\u001b[0m\n\u001b[0;32m   1130\u001b[0m             \u001b[1;32mraise\u001b[0m \u001b[0mValueError\u001b[0m\u001b[1;33m(\u001b[0m\u001b[1;34m'Tensor %s may not be fed.'\u001b[0m \u001b[1;33m%\u001b[0m \u001b[0msubfeed_t\u001b[0m\u001b[1;33m)\u001b[0m\u001b[1;33m\u001b[0m\u001b[0m\n",
      "\u001b[1;31mValueError\u001b[0m: Cannot feed value of shape (1606,) for Tensor 'Placeholder_1:0', which has shape '(?, 1)'"
     ]
    }
   ],
   "source": [
    "y_pred_regression = LSTM_fun(INPUT_DIM, X_train, y_train_regression, X_test, y_test_regression,seq_len=PAST_TIME_STEPS)"
   ]
  },
  {
   "cell_type": "code",
   "execution_count": 19,
   "metadata": {},
   "outputs": [],
   "source": [
    "INPUT_DIM = data_train.shape[1]\n",
    "output_dim = 1\n",
    "batch_size = 8 #每轮训练模型时，样本的数量\n",
    "epochs = 100 #训练60轮次\n",
    "hidden_size = 128\n",
    "lstm_units = 64"
   ]
  },
  {
   "cell_type": "code",
   "execution_count": 20,
   "metadata": {},
   "outputs": [
    {
     "name": "stdout",
     "output_type": "stream",
     "text": [
      "(?, 1, 64)\n"
     ]
    }
   ],
   "source": [
    "inputs = Input(shape=(PAST_TIME_STEPS, INPUT_DIM))\n",
    "#drop1 = Dropout(0.3)(inputs)\n",
    "x = Conv1D(filters = 64, kernel_size = 1, activation = 'relu')(inputs)  #, padding = 'same'\n",
    "#x = Conv1D(filters=128, kernel_size=5, activation='relu')(output1)#embedded_sequences\n",
    "x = MaxPooling1D(pool_size = PAST_TIME_STEPS)(x)\n",
    "x = Dropout(0.1)(x)\n",
    "print(x.shape)"
   ]
  },
  {
   "cell_type": "code",
   "execution_count": 21,
   "metadata": {},
   "outputs": [
    {
     "name": "stdout",
     "output_type": "stream",
     "text": [
      "(?, 128)\n"
     ]
    }
   ],
   "source": [
    "lstm_out = Bidirectional(LSTM(lstm_units, activation='relu'), name='bilstm')(x)\n",
    "#lstm_out = LSTM(lstm_units,activation='relu')(x)\n",
    "print(lstm_out.shape)"
   ]
  },
  {
   "cell_type": "code",
   "execution_count": 22,
   "metadata": {},
   "outputs": [],
   "source": [
    "# ATTENTION PART STARTS HERE\n",
    "attention_probs = Dense(128, activation='sigmoid', name='attention_vec')(lstm_out)\n",
    "#attention_mul=layers.merge([stm_out,attention_probs], output_shape],mode='concat',concat_axis=1))\n",
    "attention_mul =Multiply()([lstm_out, attention_probs])\n",
    "#attention_mul = merge([lstm_out, attention_probs],output_shape=32, name='attention_mul', mode='mul')"
   ]
  },
  {
   "cell_type": "code",
   "execution_count": 23,
   "metadata": {},
   "outputs": [
    {
     "name": "stdout",
     "output_type": "stream",
     "text": [
      "__________________________________________________________________________________________________\n",
      "Layer (type)                    Output Shape         Param #     Connected to                     \n",
      "==================================================================================================\n",
      "input_1 (InputLayer)            (None, 10, 6)        0                                            \n",
      "__________________________________________________________________________________________________\n",
      "conv1d_1 (Conv1D)               (None, 10, 64)       448         input_1[0][0]                    \n",
      "__________________________________________________________________________________________________\n",
      "max_pooling1d_1 (MaxPooling1D)  (None, 1, 64)        0           conv1d_1[0][0]                   \n",
      "__________________________________________________________________________________________________\n",
      "dropout_1 (Dropout)             (None, 1, 64)        0           max_pooling1d_1[0][0]            \n",
      "__________________________________________________________________________________________________\n",
      "bilstm (Bidirectional)          (None, 128)          66048       dropout_1[0][0]                  \n",
      "__________________________________________________________________________________________________\n",
      "attention_vec (Dense)           (None, 128)          16512       bilstm[0][0]                     \n",
      "__________________________________________________________________________________________________\n",
      "multiply_1 (Multiply)           (None, 128)          0           bilstm[0][0]                     \n",
      "                                                                 attention_vec[0][0]              \n",
      "__________________________________________________________________________________________________\n",
      "dense_1 (Dense)                 (None, 1)            129         multiply_1[0][0]                 \n",
      "==================================================================================================\n",
      "Total params: 83,137\n",
      "Trainable params: 83,137\n",
      "Non-trainable params: 0\n",
      "__________________________________________________________________________________________________\n",
      "None\n"
     ]
    }
   ],
   "source": [
    "output_regression = Dense(1, activation='linear')(attention_mul)\n",
    "#output = Dense(10, activation='sigmoid')(drop2)\n",
    "\n",
    "model_regression = Model(inputs=inputs, outputs=output_regression)\n",
    "print(model_regression.summary())"
   ]
  },
  {
   "cell_type": "code",
   "execution_count": 24,
   "metadata": {},
   "outputs": [
    {
     "name": "stdout",
     "output_type": "stream",
     "text": [
      "Train on 1606 samples, validate on 392 samples\n",
      "Epoch 1/100\n",
      "1606/1606 [==============================] - 3s 2ms/step - loss: 9484376.1009 - mean_squared_error: 9484376.1009 - val_loss: 10966773.7041 - val_mean_squared_error: 10966773.7041\n",
      "Epoch 2/100\n",
      "1606/1606 [==============================] - 1s 449us/step - loss: 4727490.7651 - mean_squared_error: 4727490.7651 - val_loss: 1813777.6849 - val_mean_squared_error: 1813777.6849\n",
      "Epoch 3/100\n",
      "1606/1606 [==============================] - 1s 458us/step - loss: 612669.6503 - mean_squared_error: 612669.6503 - val_loss: 73522.7389 - val_mean_squared_error: 73522.7389\n",
      "Epoch 4/100\n",
      "1606/1606 [==============================] - 1s 459us/step - loss: 362493.0316 - mean_squared_error: 362493.0316 - val_loss: 60282.9532 - val_mean_squared_error: 60282.9532\n",
      "Epoch 5/100\n",
      "1606/1606 [==============================] - 1s 447us/step - loss: 296150.9344 - mean_squared_error: 296150.9344 - val_loss: 52303.3975 - val_mean_squared_error: 52303.3975\n",
      "Epoch 6/100\n",
      "1606/1606 [==============================] - 1s 591us/step - loss: 255609.9004 - mean_squared_error: 255609.9004 - val_loss: 46165.8771 - val_mean_squared_error: 46165.8771\n",
      "Epoch 7/100\n",
      "1606/1606 [==============================] - 1s 498us/step - loss: 205589.0029 - mean_squared_error: 205589.0029 - val_loss: 41032.2510 - val_mean_squared_error: 41032.2510\n",
      "Epoch 8/100\n",
      "1606/1606 [==============================] - 1s 448us/step - loss: 177761.2179 - mean_squared_error: 177761.2179 - val_loss: 37203.0079 - val_mean_squared_error: 37203.0079\n",
      "Epoch 9/100\n",
      "1606/1606 [==============================] - ETA: 0s - loss: 155111.4111 - mean_squared_error: 155111.41 - 1s 514us/step - loss: 153409.5447 - mean_squared_error: 153409.5447 - val_loss: 32988.1283 - val_mean_squared_error: 32988.1283\n",
      "Epoch 10/100\n",
      "1606/1606 [==============================] - 1s 509us/step - loss: 133080.9494 - mean_squared_error: 133080.9494 - val_loss: 29948.3613 - val_mean_squared_error: 29948.3613\n",
      "Epoch 11/100\n",
      "1606/1606 [==============================] - 1s 511us/step - loss: 115925.1869 - mean_squared_error: 115925.1869 - val_loss: 27630.3468 - val_mean_squared_error: 27630.3468\n",
      "Epoch 12/100\n",
      "1606/1606 [==============================] - 1s 415us/step - loss: 94934.0531 - mean_squared_error: 94934.0531 - val_loss: 25786.7799 - val_mean_squared_error: 25786.7799\n",
      "Epoch 13/100\n",
      "1606/1606 [==============================] - 1s 452us/step - loss: 79127.1764 - mean_squared_error: 79127.1764 - val_loss: 24386.2572 - val_mean_squared_error: 24386.2572\n",
      "Epoch 14/100\n",
      "1606/1606 [==============================] - 1s 458us/step - loss: 75060.0361 - mean_squared_error: 75060.0361 - val_loss: 23163.6034 - val_mean_squared_error: 23163.6034\n",
      "Epoch 15/100\n",
      "1606/1606 [==============================] - 1s 427us/step - loss: 68251.7528 - mean_squared_error: 68251.7528 - val_loss: 22472.5105 - val_mean_squared_error: 22472.5105\n",
      "Epoch 16/100\n",
      "1606/1606 [==============================] - 1s 400us/step - loss: 62001.7798 - mean_squared_error: 62001.7798 - val_loss: 21655.2802 - val_mean_squared_error: 21655.2802\n",
      "Epoch 17/100\n",
      "1606/1606 [==============================] - 1s 445us/step - loss: 62641.4264 - mean_squared_error: 62641.4264 - val_loss: 21213.1665 - val_mean_squared_error: 21213.1665\n",
      "Epoch 18/100\n",
      "1606/1606 [==============================] - 1s 430us/step - loss: 55267.0452 - mean_squared_error: 55267.0452 - val_loss: 20972.7655 - val_mean_squared_error: 20972.7655\n",
      "Epoch 19/100\n",
      "1606/1606 [==============================] - 1s 433us/step - loss: 54416.8714 - mean_squared_error: 54416.8714 - val_loss: 21968.9417 - val_mean_squared_error: 21968.9417\n",
      "Epoch 20/100\n",
      "1606/1606 [==============================] - 1s 427us/step - loss: 51763.4796 - mean_squared_error: 51763.4796 - val_loss: 20110.3559 - val_mean_squared_error: 20110.3559\n",
      "Epoch 21/100\n",
      "1606/1606 [==============================] - 1s 441us/step - loss: 54464.1632 - mean_squared_error: 54464.1632 - val_loss: 19909.8268 - val_mean_squared_error: 19909.8268\n",
      "Epoch 22/100\n",
      "1606/1606 [==============================] - 1s 451us/step - loss: 49476.8922 - mean_squared_error: 49476.8922 - val_loss: 19776.4399 - val_mean_squared_error: 19776.4399\n",
      "Epoch 23/100\n",
      "1606/1606 [==============================] - 1s 546us/step - loss: 52515.7828 - mean_squared_error: 52515.7828 - val_loss: 20146.1637 - val_mean_squared_error: 20146.1637\n",
      "Epoch 24/100\n",
      "1606/1606 [==============================] - 1s 518us/step - loss: 49914.6387 - mean_squared_error: 49914.6387 - val_loss: 19580.4008 - val_mean_squared_error: 19580.4008\n",
      "Epoch 25/100\n",
      "1606/1606 [==============================] - 1s 573us/step - loss: 50639.7875 - mean_squared_error: 50639.7875 - val_loss: 19753.9472 - val_mean_squared_error: 19753.9472\n",
      "Epoch 26/100\n",
      "1606/1606 [==============================] - 1s 529us/step - loss: 48400.2001 - mean_squared_error: 48400.2001 - val_loss: 19524.5619 - val_mean_squared_error: 19524.5619\n",
      "Epoch 27/100\n",
      "1606/1606 [==============================] - 1s 483us/step - loss: 54420.2399 - mean_squared_error: 54420.2399 - val_loss: 19427.8416 - val_mean_squared_error: 19427.8416\n",
      "Epoch 28/100\n",
      "1606/1606 [==============================] - 1s 460us/step - loss: 52495.9603 - mean_squared_error: 52495.9603 - val_loss: 19395.5393 - val_mean_squared_error: 19395.5393\n",
      "Epoch 29/100\n",
      "1606/1606 [==============================] - 1s 430us/step - loss: 46993.0267 - mean_squared_error: 46993.0267 - val_loss: 19599.1635 - val_mean_squared_error: 19599.1635\n",
      "Epoch 30/100\n",
      "1606/1606 [==============================] - 1s 473us/step - loss: 52128.1956 - mean_squared_error: 52128.1956 - val_loss: 19563.3694 - val_mean_squared_error: 19563.3694\n",
      "Epoch 31/100\n",
      "1606/1606 [==============================] - 1s 495us/step - loss: 53970.5657 - mean_squared_error: 53970.5657 - val_loss: 19431.5724 - val_mean_squared_error: 19431.5724\n",
      "Epoch 32/100\n",
      "1606/1606 [==============================] - 1s 472us/step - loss: 51938.4151 - mean_squared_error: 51938.4151 - val_loss: 19452.4277 - val_mean_squared_error: 19452.4277\n",
      "Epoch 33/100\n",
      "1606/1606 [==============================] - 1s 480us/step - loss: 51278.7958 - mean_squared_error: 51278.7958 - val_loss: 19820.6989 - val_mean_squared_error: 19820.6989\n",
      "Epoch 34/100\n",
      "1606/1606 [==============================] - 1s 496us/step - loss: 51022.0555 - mean_squared_error: 51022.0555 - val_loss: 19646.5526 - val_mean_squared_error: 19646.5526\n",
      "Epoch 35/100\n",
      "1606/1606 [==============================] - 1s 473us/step - loss: 51869.2724 - mean_squared_error: 51869.2724 - val_loss: 19434.2983 - val_mean_squared_error: 19434.2983\n",
      "Epoch 36/100\n",
      "1606/1606 [==============================] - 1s 496us/step - loss: 53997.0013 - mean_squared_error: 53997.0013 - val_loss: 20353.3792 - val_mean_squared_error: 20353.3792\n",
      "Epoch 37/100\n",
      "1606/1606 [==============================] - 1s 497us/step - loss: 50134.8271 - mean_squared_error: 50134.8271 - val_loss: 19544.3525 - val_mean_squared_error: 19544.3525\n",
      "Epoch 38/100\n",
      "1606/1606 [==============================] - 1s 477us/step - loss: 52000.2921 - mean_squared_error: 52000.2921 - val_loss: 19516.5914 - val_mean_squared_error: 19516.5914\n",
      "Epoch 00038: early stopping\n",
      "1606/1606 [==============================] - 0s 130us/step\n",
      "MSE Train loss: [31531.41094765479, 31531.41094765479]\n",
      "392/392 [==============================] - 0s 125us/step\n",
      "MSE Test loss: [19516.591398278062, 19516.591398278062]\n"
     ]
    }
   ],
   "source": [
    "model_regression.compile(loss='mean_squared_error', optimizer='adam', metrics=['mse'])\n",
    "# simple early stopping\n",
    "es = EarlyStopping(monitor='val_loss', mode='min', verbose=1, patience=10)\n",
    "# fit model\n",
    "history_regression = model_regression.fit(X_train, y_train_regression,validation_data=(X_test, y_test_regression), epochs=epochs, batch_size=batch_size, shuffle=False, callbacks=[es])\n",
    "y_pred_regression = model_regression.predict(X_test)\n",
    "# evaluate the model\n",
    "print('MSE Train loss:', model_regression.evaluate(X_train, y_train_regression, batch_size=batch_size))\n",
    "print('MSE Test loss:', model_regression.evaluate(X_test, y_test_regression, batch_size=batch_size))\n"
   ]
  },
  {
   "cell_type": "code",
   "execution_count": 25,
   "metadata": {},
   "outputs": [
    {
     "data": {
      "image/png": "[encoded data removed]",
      "text/plain": [
       "<Figure size 432x288 with 1 Axes>"
      ]
     },
     "metadata": {
      "needs_background": "light"
     },
     "output_type": "display_data"
    }
   ],
   "source": [
    "# plot training history\n",
    "plt.plot(y_test_regression, label='test')\n",
    "plt.plot(y_pred_regression, label='pred')\n",
    "plt.legend()\n",
    "plt.show()"
   ]
  },
  {
   "cell_type": "code",
   "execution_count": null,
   "metadata": {},
   "outputs": [],
   "source": []
  }
 ],
 "metadata": {
  "kernelspec": {
   "display_name": "Python [conda env:py35]",
   "language": "python",
   "name": "conda-env-py35-py"
  },
  "language_info": {
   "codemirror_mode": {
    "name": "ipython",
    "version": 3
   },
   "file_extension": ".py",
   "mimetype": "text/x-python",
   "name": "python",
   "nbconvert_exporter": "python",
   "pygments_lexer": "ipython3",
   "version": "3.5.6"
  }
 },
 "nbformat": 4,
 "nbformat_minor": 2
}
