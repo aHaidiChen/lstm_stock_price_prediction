{
 "cells": [
  {
   "cell_type": "code",
   "execution_count": 1,
   "metadata": {},
   "outputs": [
    {
     "name": "stderr",
     "output_type": "stream",
     "text": [
      "Using TensorFlow backend.\n"
     ]
    }
   ],
   "source": [
    "from keras.layers import Input, Dense, LSTM\n",
    "from keras.models import Model\n",
    "from keras.layers import *\n",
    "from keras.models import *\n",
    "from keras.optimizers import Adam\n",
    "from keras.callbacks import EarlyStopping"
   ]
  },
  {
   "cell_type": "code",
   "execution_count": 2,
   "metadata": {},
   "outputs": [],
   "source": [
    "import pandas as pd\n",
    "import numpy as np\n",
    "import tensorflow as tf\n",
    "import matplotlib.pyplot as plt\n",
    "%matplotlib inline\n",
    "from sklearn.preprocessing import MinMaxScaler\n",
    "import time"
   ]
  },
  {
   "cell_type": "code",
   "execution_count": 3,
   "metadata": {},
   "outputs": [],
   "source": [
    "df = pd.read_csv(\"data/沪深300小时级别数据.csv\",header=0,index_col=None,sep='\\s+',parse_dates=[0])"
   ]
  },
  {
   "cell_type": "code",
   "execution_count": 4,
   "metadata": {},
   "outputs": [
    {
     "data": {
      "text/html": [
       "<div>\n",
       "<style scoped>\n",
       "    .dataframe tbody tr th:only-of-type {\n",
       "        vertical-align: middle;\n",
       "    }\n",
       "\n",
       "    .dataframe tbody tr th {\n",
       "        vertical-align: top;\n",
       "    }\n",
       "\n",
       "    .dataframe thead th {\n",
       "        text-align: right;\n",
       "    }\n",
       "</style>\n",
       "<table border=\"1\" class=\"dataframe\">\n",
       "  <thead>\n",
       "    <tr style=\"text-align: right;\">\n",
       "      <th></th>\n",
       "      <th>time</th>\n",
       "      <th>open</th>\n",
       "      <th>close</th>\n",
       "      <th>high</th>\n",
       "      <th>low</th>\n",
       "      <th>volume</th>\n",
       "      <th>money</th>\n",
       "    </tr>\n",
       "  </thead>\n",
       "  <tbody>\n",
       "    <tr>\n",
       "      <th>0</th>\n",
       "      <td>2012-01-04 10:30:00</td>\n",
       "      <td>2361.50</td>\n",
       "      <td>2348.51</td>\n",
       "      <td>2365.92</td>\n",
       "      <td>2346.60</td>\n",
       "      <td>1263715000</td>\n",
       "      <td>12097650000</td>\n",
       "    </tr>\n",
       "    <tr>\n",
       "      <th>1</th>\n",
       "      <td>2012-01-04 11:30:00</td>\n",
       "      <td>2348.83</td>\n",
       "      <td>2332.52</td>\n",
       "      <td>2350.21</td>\n",
       "      <td>2331.04</td>\n",
       "      <td>635382000</td>\n",
       "      <td>6084670000</td>\n",
       "    </tr>\n",
       "    <tr>\n",
       "      <th>2</th>\n",
       "      <td>2012-01-04 14:00:00</td>\n",
       "      <td>2332.40</td>\n",
       "      <td>2326.73</td>\n",
       "      <td>2334.76</td>\n",
       "      <td>2323.85</td>\n",
       "      <td>640358000</td>\n",
       "      <td>5843940000</td>\n",
       "    </tr>\n",
       "    <tr>\n",
       "      <th>3</th>\n",
       "      <td>2012-01-04 15:00:00</td>\n",
       "      <td>2327.24</td>\n",
       "      <td>2298.75</td>\n",
       "      <td>2327.24</td>\n",
       "      <td>2298.37</td>\n",
       "      <td>883373800</td>\n",
       "      <td>8406050000</td>\n",
       "    </tr>\n",
       "    <tr>\n",
       "      <th>4</th>\n",
       "      <td>2012-01-05 10:30:00</td>\n",
       "      <td>2290.78</td>\n",
       "      <td>2290.86</td>\n",
       "      <td>2308.68</td>\n",
       "      <td>2282.33</td>\n",
       "      <td>1197403500</td>\n",
       "      <td>10499450880</td>\n",
       "    </tr>\n",
       "    <tr>\n",
       "      <th>5</th>\n",
       "      <td>2012-01-05 11:30:00</td>\n",
       "      <td>2290.87</td>\n",
       "      <td>2306.45</td>\n",
       "      <td>2316.58</td>\n",
       "      <td>2284.62</td>\n",
       "      <td>1132892900</td>\n",
       "      <td>9694943232</td>\n",
       "    </tr>\n",
       "    <tr>\n",
       "      <th>6</th>\n",
       "      <td>2012-01-05 14:00:00</td>\n",
       "      <td>2306.37</td>\n",
       "      <td>2296.03</td>\n",
       "      <td>2308.16</td>\n",
       "      <td>2294.37</td>\n",
       "      <td>665050000</td>\n",
       "      <td>5726093312</td>\n",
       "    </tr>\n",
       "    <tr>\n",
       "      <th>7</th>\n",
       "      <td>2012-01-05 15:00:00</td>\n",
       "      <td>2296.52</td>\n",
       "      <td>2276.39</td>\n",
       "      <td>2296.60</td>\n",
       "      <td>2272.42</td>\n",
       "      <td>1295105600</td>\n",
       "      <td>11593711616</td>\n",
       "    </tr>\n",
       "  </tbody>\n",
       "</table>\n",
       "</div>"
      ],
      "text/plain": [
       "                 time     open    close     high      low      volume  \\\n",
       "0 2012-01-04 10:30:00  2361.50  2348.51  2365.92  2346.60  1263715000   \n",
       "1 2012-01-04 11:30:00  2348.83  2332.52  2350.21  2331.04   635382000   \n",
       "2 2012-01-04 14:00:00  2332.40  2326.73  2334.76  2323.85   640358000   \n",
       "3 2012-01-04 15:00:00  2327.24  2298.75  2327.24  2298.37   883373800   \n",
       "4 2012-01-05 10:30:00  2290.78  2290.86  2308.68  2282.33  1197403500   \n",
       "5 2012-01-05 11:30:00  2290.87  2306.45  2316.58  2284.62  1132892900   \n",
       "6 2012-01-05 14:00:00  2306.37  2296.03  2308.16  2294.37   665050000   \n",
       "7 2012-01-05 15:00:00  2296.52  2276.39  2296.60  2272.42  1295105600   \n",
       "\n",
       "         money  \n",
       "0  12097650000  \n",
       "1   6084670000  \n",
       "2   5843940000  \n",
       "3   8406050000  \n",
       "4  10499450880  \n",
       "5   9694943232  \n",
       "6   5726093312  \n",
       "7  11593711616  "
      ]
     },
     "execution_count": 4,
     "metadata": {},
     "output_type": "execute_result"
    }
   ],
   "source": [
    "df.head(8)"
   ]
  },
  {
   "cell_type": "code",
   "execution_count": 5,
   "metadata": {},
   "outputs": [
    {
     "data": {
      "text/plain": [
       "(8096, 7)"
      ]
     },
     "execution_count": 5,
     "metadata": {},
     "output_type": "execute_result"
    }
   ],
   "source": [
    "df.shape"
   ]
  },
  {
   "cell_type": "code",
   "execution_count": 6,
   "metadata": {},
   "outputs": [],
   "source": [
    "df_feature = df[['close','open','high', 'low', 'volume', 'money']].astype('float')"
   ]
  },
  {
   "cell_type": "code",
   "execution_count": 7,
   "metadata": {},
   "outputs": [],
   "source": [
    "sample_num = df.shape[0]"
   ]
  },
  {
   "cell_type": "code",
   "execution_count": 8,
   "metadata": {},
   "outputs": [],
   "source": [
    "train_num = int(df.shape[0] * 0.8)"
   ]
  },
  {
   "cell_type": "code",
   "execution_count": 9,
   "metadata": {},
   "outputs": [],
   "source": [
    "test_num = df.shape[0] - train_num"
   ]
  },
  {
   "cell_type": "code",
   "execution_count": 10,
   "metadata": {},
   "outputs": [
    {
     "data": {
      "text/plain": [
       "(8096, 6476, 1620)"
      ]
     },
     "execution_count": 10,
     "metadata": {},
     "output_type": "execute_result"
    }
   ],
   "source": [
    "sample_num,train_num,test_num"
   ]
  },
  {
   "cell_type": "code",
   "execution_count": 11,
   "metadata": {},
   "outputs": [
    {
     "name": "stdout",
     "output_type": "stream",
     "text": [
      "(6476, 6) (1620, 6)\n"
     ]
    }
   ],
   "source": [
    "data_train = df_feature.iloc[:train_num, :]\n",
    "data_test = df_feature.iloc[train_num:, :]\n",
    "print(data_train.shape, data_test.shape)"
   ]
  },
  {
   "cell_type": "code",
   "execution_count": 12,
   "metadata": {},
   "outputs": [
    {
     "data": {
      "text/plain": [
       "MinMaxScaler(copy=True, feature_range=(0, 1))"
      ]
     },
     "execution_count": 12,
     "metadata": {},
     "output_type": "execute_result"
    }
   ],
   "source": [
    "scaler = MinMaxScaler(feature_range=(0, 1))\n",
    "scaler.fit(data_train)"
   ]
  },
  {
   "cell_type": "code",
   "execution_count": 13,
   "metadata": {},
   "outputs": [],
   "source": [
    "data_train = scaler.transform(data_train)\n",
    "data_test = scaler.transform(data_test)"
   ]
  },
  {
   "cell_type": "code",
   "execution_count": 14,
   "metadata": {},
   "outputs": [
    {
     "name": "stdout",
     "output_type": "stream",
     "text": [
      "(6476,) (1620,)\n"
     ]
    }
   ],
   "source": [
    "data_train_y = np.array(df_feature.iloc[:train_num, 0])\n",
    "data_test_y = np.array(df_feature.iloc[train_num:, 0])\n",
    "print(data_train_y.shape, data_test_y.shape)"
   ]
  },
  {
   "cell_type": "code",
   "execution_count": 15,
   "metadata": {},
   "outputs": [],
   "source": [
    "PAST_TIME_STEPS = 24\n",
    "NEXT_TIME_STEPS = 12\n",
    "assert PAST_TIME_STEPS in [1,4,8,12,16,20,24]\n",
    "assert NEXT_TIME_STEPS in [1,4,8,12,16,20,24]"
   ]
  },
  {
   "cell_type": "code",
   "execution_count": 16,
   "metadata": {},
   "outputs": [],
   "source": [
    "X_train = np.array([data_train[i : i + PAST_TIME_STEPS, :] for i in range(0,data_train.shape[0] - (NEXT_TIME_STEPS+ PAST_TIME_STEPS),4)])\n",
    "X_test = np.array([data_test[i : i + PAST_TIME_STEPS, :] for i in range(0,data_test.shape[0] - (NEXT_TIME_STEPS+ PAST_TIME_STEPS),4)])\n"
   ]
  },
  {
   "cell_type": "code",
   "execution_count": 17,
   "metadata": {},
   "outputs": [],
   "source": [
    "y_train_regression = np.array([data_train_y[i + PAST_TIME_STEPS + NEXT_TIME_STEPS-1] for i in range(0,data_train.shape[0] - (NEXT_TIME_STEPS+ PAST_TIME_STEPS),4)])\n",
    "y_test_regression = np.array([data_test_y[i + PAST_TIME_STEPS + NEXT_TIME_STEPS-1] for i in range(0,data_test.shape[0] - (NEXT_TIME_STEPS+ PAST_TIME_STEPS),4)])"
   ]
  },
  {
   "cell_type": "code",
   "execution_count": 18,
   "metadata": {},
   "outputs": [
    {
     "name": "stdout",
     "output_type": "stream",
     "text": [
      "(1610, 24, 6) (1610,) (396, 24, 6) (396,)\n"
     ]
    }
   ],
   "source": [
    "print(X_train.shape, y_train_regression.shape, X_test.shape,y_test_regression.shape)"
   ]
  },
  {
   "cell_type": "code",
   "execution_count": 19,
   "metadata": {},
   "outputs": [],
   "source": [
    "INPUT_DIM = data_train.shape[1]\n",
    "output_dim = 1\n",
    "batch_size = 8 #每轮训练模型时，样本的数量\n",
    "epochs = 100 #训练60轮次\n",
    "hidden_size = 128\n",
    "lstm_units = 64"
   ]
  },
  {
   "cell_type": "code",
   "execution_count": 20,
   "metadata": {},
   "outputs": [
    {
     "name": "stdout",
     "output_type": "stream",
     "text": [
      "(?, 1, 64)\n"
     ]
    }
   ],
   "source": [
    "inputs = Input(shape=(PAST_TIME_STEPS, INPUT_DIM))\n",
    "#drop1 = Dropout(0.3)(inputs)\n",
    "x = Conv1D(filters = 64, kernel_size = 1, activation = 'relu')(inputs)  #, padding = 'same'\n",
    "#x = Conv1D(filters=128, kernel_size=5, activation='relu')(output1)#embedded_sequences\n",
    "x = MaxPooling1D(pool_size = PAST_TIME_STEPS)(x)\n",
    "x = Dropout(0.1)(x)\n",
    "print(x.shape)"
   ]
  },
  {
   "cell_type": "code",
   "execution_count": 21,
   "metadata": {},
   "outputs": [
    {
     "name": "stdout",
     "output_type": "stream",
     "text": [
      "(?, 128)\n"
     ]
    }
   ],
   "source": [
    "lstm_out = Bidirectional(LSTM(lstm_units, activation='relu'), name='bilstm')(x)\n",
    "#lstm_out = LSTM(lstm_units,activation='relu')(x)\n",
    "print(lstm_out.shape)"
   ]
  },
  {
   "cell_type": "code",
   "execution_count": 22,
   "metadata": {},
   "outputs": [],
   "source": [
    "# ATTENTION PART STARTS HERE\n",
    "attention_probs = Dense(128, activation='sigmoid', name='attention_vec')(lstm_out)\n",
    "#attention_mul=layers.merge([stm_out,attention_probs], output_shape],mode='concat',concat_axis=1))\n",
    "attention_mul =Multiply()([lstm_out, attention_probs])\n",
    "#attention_mul = merge([lstm_out, attention_probs],output_shape=32, name='attention_mul', mode='mul')"
   ]
  },
  {
   "cell_type": "code",
   "execution_count": 23,
   "metadata": {},
   "outputs": [
    {
     "name": "stdout",
     "output_type": "stream",
     "text": [
      "__________________________________________________________________________________________________\n",
      "Layer (type)                    Output Shape         Param #     Connected to                     \n",
      "==================================================================================================\n",
      "input_1 (InputLayer)            (None, 24, 6)        0                                            \n",
      "__________________________________________________________________________________________________\n",
      "conv1d_1 (Conv1D)               (None, 24, 64)       448         input_1[0][0]                    \n",
      "__________________________________________________________________________________________________\n",
      "max_pooling1d_1 (MaxPooling1D)  (None, 1, 64)        0           conv1d_1[0][0]                   \n",
      "__________________________________________________________________________________________________\n",
      "dropout_1 (Dropout)             (None, 1, 64)        0           max_pooling1d_1[0][0]            \n",
      "__________________________________________________________________________________________________\n",
      "bilstm (Bidirectional)          (None, 128)          66048       dropout_1[0][0]                  \n",
      "__________________________________________________________________________________________________\n",
      "attention_vec (Dense)           (None, 128)          16512       bilstm[0][0]                     \n",
      "__________________________________________________________________________________________________\n",
      "multiply_1 (Multiply)           (None, 128)          0           bilstm[0][0]                     \n",
      "                                                                 attention_vec[0][0]              \n",
      "__________________________________________________________________________________________________\n",
      "dense_1 (Dense)                 (None, 1)            129         multiply_1[0][0]                 \n",
      "==================================================================================================\n",
      "Total params: 83,137\n",
      "Trainable params: 83,137\n",
      "Non-trainable params: 0\n",
      "__________________________________________________________________________________________________\n",
      "None\n"
     ]
    }
   ],
   "source": [
    "output_regression = Dense(1, activation='linear')(attention_mul)\n",
    "#output = Dense(10, activation='sigmoid')(drop2)\n",
    "\n",
    "model_regression = Model(inputs=inputs, outputs=output_regression)\n",
    "print(model_regression.summary())"
   ]
  },
  {
   "cell_type": "code",
   "execution_count": 24,
   "metadata": {},
   "outputs": [
    {
     "name": "stdout",
     "output_type": "stream",
     "text": [
      "Train on 1610 samples, validate on 396 samples\n",
      "Epoch 1/100\n",
      "1610/1610 [==============================] - 2s 1ms/step - loss: 9480161.9503 - mean_squared_error: 9480161.9503 - val_loss: 10928806.9798 - val_mean_squared_error: 10928806.9798\n",
      "Epoch 2/100\n",
      "1610/1610 [==============================] - 1s 389us/step - loss: 4693479.9497 - mean_squared_error: 4693479.9497 - val_loss: 1687549.1742 - val_mean_squared_error: 1687549.1742\n",
      "Epoch 3/100\n",
      "1610/1610 [==============================] - 1s 397us/step - loss: 570819.0851 - mean_squared_error: 570819.0851 - val_loss: 68638.9959 - val_mean_squared_error: 68638.9959\n",
      "Epoch 4/100\n",
      "1610/1610 [==============================] - 1s 430us/step - loss: 343813.7687 - mean_squared_error: 343813.7687 - val_loss: 58040.2864 - val_mean_squared_error: 58040.2864\n",
      "Epoch 5/100\n",
      "1610/1610 [==============================] - 1s 390us/step - loss: 283549.9216 - mean_squared_error: 283549.9216 - val_loss: 50397.8761 - val_mean_squared_error: 50397.8761\n",
      "Epoch 6/100\n",
      "1610/1610 [==============================] - 1s 388us/step - loss: 240758.7900 - mean_squared_error: 240758.7900 - val_loss: 43815.7146 - val_mean_squared_error: 43815.7146\n",
      "Epoch 7/100\n",
      "1610/1610 [==============================] - 1s 401us/step - loss: 204110.1308 - mean_squared_error: 204110.1308 - val_loss: 38315.3121 - val_mean_squared_error: 38315.3121\n",
      "Epoch 8/100\n",
      "1610/1610 [==============================] - 1s 387us/step - loss: 175295.6082 - mean_squared_error: 175295.6082 - val_loss: 33702.9674 - val_mean_squared_error: 33702.9674\n",
      "Epoch 9/100\n",
      "1610/1610 [==============================] - 1s 408us/step - loss: 139975.7935 - mean_squared_error: 139975.7935 - val_loss: 30032.1887 - val_mean_squared_error: 30032.1887\n",
      "Epoch 10/100\n",
      "1610/1610 [==============================] - 1s 366us/step - loss: 124451.4396 - mean_squared_error: 124451.4396 - val_loss: 26739.5536 - val_mean_squared_error: 26739.5536\n",
      "Epoch 11/100\n",
      "1610/1610 [==============================] - 1s 439us/step - loss: 110939.2370 - mean_squared_error: 110939.2370 - val_loss: 24147.5623 - val_mean_squared_error: 24147.5623\n",
      "Epoch 12/100\n",
      "1610/1610 [==============================] - 1s 400us/step - loss: 95094.4831 - mean_squared_error: 95094.4831 - val_loss: 23054.7273 - val_mean_squared_error: 23054.7273\n",
      "Epoch 13/100\n",
      "1610/1610 [==============================] - 1s 367us/step - loss: 78341.0109 - mean_squared_error: 78341.0109 - val_loss: 20434.7034 - val_mean_squared_error: 20434.7034\n",
      "Epoch 14/100\n",
      "1610/1610 [==============================] - 1s 411us/step - loss: 69483.7411 - mean_squared_error: 69483.7411 - val_loss: 18979.6825 - val_mean_squared_error: 18979.6825\n",
      "Epoch 15/100\n",
      "1610/1610 [==============================] - 1s 436us/step - loss: 64319.1528 - mean_squared_error: 64319.1528 - val_loss: 17743.4573 - val_mean_squared_error: 17743.4573\n",
      "Epoch 16/100\n",
      "1610/1610 [==============================] - 1s 421us/step - loss: 53955.6322 - mean_squared_error: 53955.6322 - val_loss: 17266.0003 - val_mean_squared_error: 17266.0003\n",
      "Epoch 17/100\n",
      "1610/1610 [==============================] - 1s 435us/step - loss: 53006.3579 - mean_squared_error: 53006.3579 - val_loss: 17650.4247 - val_mean_squared_error: 17650.4247\n",
      "Epoch 18/100\n",
      "1610/1610 [==============================] - 1s 416us/step - loss: 50819.4177 - mean_squared_error: 50819.4177 - val_loss: 15794.9342 - val_mean_squared_error: 15794.9342\n",
      "Epoch 19/100\n",
      "1610/1610 [==============================] - 1s 429us/step - loss: 49930.9017 - mean_squared_error: 49930.9017 - val_loss: 15936.6235 - val_mean_squared_error: 15936.6235\n",
      "Epoch 20/100\n",
      "1610/1610 [==============================] - 1s 389us/step - loss: 46956.4096 - mean_squared_error: 46956.4096 - val_loss: 15079.7014 - val_mean_squared_error: 15079.7014\n",
      "Epoch 21/100\n",
      "1610/1610 [==============================] - 1s 388us/step - loss: 42211.8555 - mean_squared_error: 42211.8555 - val_loss: 14612.5500 - val_mean_squared_error: 14612.5500\n",
      "Epoch 22/100\n",
      "1610/1610 [==============================] - 1s 403us/step - loss: 42347.5438 - mean_squared_error: 42347.5438 - val_loss: 14958.3331 - val_mean_squared_error: 14958.3331\n",
      "Epoch 23/100\n",
      "1610/1610 [==============================] - 1s 460us/step - loss: 44132.7824 - mean_squared_error: 44132.7824 - val_loss: 14362.3257 - val_mean_squared_error: 14362.3257\n",
      "Epoch 24/100\n",
      "1610/1610 [==============================] - 1s 402us/step - loss: 42708.6372 - mean_squared_error: 42708.6372 - val_loss: 14491.5101 - val_mean_squared_error: 14491.5101\n",
      "Epoch 25/100\n",
      "1610/1610 [==============================] - 1s 404us/step - loss: 40511.4650 - mean_squared_error: 40511.4650 - val_loss: 14377.9734 - val_mean_squared_error: 14377.9734\n",
      "Epoch 26/100\n",
      "1610/1610 [==============================] - 1s 411us/step - loss: 38487.2040 - mean_squared_error: 38487.2040 - val_loss: 14414.7747 - val_mean_squared_error: 14414.7747\n",
      "Epoch 27/100\n",
      "1610/1610 [==============================] - 1s 418us/step - loss: 42733.7903 - mean_squared_error: 42733.7903 - val_loss: 14948.3127 - val_mean_squared_error: 14948.3127\n",
      "Epoch 28/100\n",
      "1610/1610 [==============================] - 1s 390us/step - loss: 45111.1215 - mean_squared_error: 45111.1215 - val_loss: 14585.9257 - val_mean_squared_error: 14585.9257\n",
      "Epoch 29/100\n",
      "1610/1610 [==============================] - 1s 439us/step - loss: 40963.7733 - mean_squared_error: 40963.7733 - val_loss: 15155.6979 - val_mean_squared_error: 15155.6979\n",
      "Epoch 30/100\n",
      "1610/1610 [==============================] - 1s 462us/step - loss: 38619.8268 - mean_squared_error: 38619.8268 - val_loss: 14082.3887 - val_mean_squared_error: 14082.3887\n",
      "Epoch 31/100\n",
      "1610/1610 [==============================] - 1s 385us/step - loss: 42337.0948 - mean_squared_error: 42337.0948 - val_loss: 14422.8272 - val_mean_squared_error: 14422.8272\n",
      "Epoch 32/100\n",
      "1610/1610 [==============================] - 1s 394us/step - loss: 40526.4976 - mean_squared_error: 40526.4976 - val_loss: 14065.4911 - val_mean_squared_error: 14065.4911\n",
      "Epoch 33/100\n",
      "1610/1610 [==============================] - 1s 401us/step - loss: 42190.9044 - mean_squared_error: 42190.9044 - val_loss: 14057.4070 - val_mean_squared_error: 14057.4070\n",
      "Epoch 34/100\n",
      "1610/1610 [==============================] - 1s 394us/step - loss: 39878.0637 - mean_squared_error: 39878.0637 - val_loss: 14286.4633 - val_mean_squared_error: 14286.4633\n",
      "Epoch 35/100\n",
      "1610/1610 [==============================] - 1s 404us/step - loss: 39923.6480 - mean_squared_error: 39923.6480 - val_loss: 14638.1810 - val_mean_squared_error: 14638.1810\n",
      "Epoch 36/100\n",
      "1610/1610 [==============================] - 1s 394us/step - loss: 44735.5183 - mean_squared_error: 44735.5183 - val_loss: 14215.4333 - val_mean_squared_error: 14215.4333\n",
      "Epoch 37/100\n",
      "1610/1610 [==============================] - 1s 384us/step - loss: 38435.6104 - mean_squared_error: 38435.6104 - val_loss: 14665.5435 - val_mean_squared_error: 14665.5435\n",
      "Epoch 38/100\n",
      "1610/1610 [==============================] - 1s 427us/step - loss: 43456.5636 - mean_squared_error: 43456.5636 - val_loss: 14931.3667 - val_mean_squared_error: 14931.3667\n",
      "Epoch 39/100\n",
      "1610/1610 [==============================] - 1s 403us/step - loss: 44063.8959 - mean_squared_error: 44063.8959 - val_loss: 14152.9745 - val_mean_squared_error: 14152.9745\n",
      "Epoch 40/100\n",
      "1610/1610 [==============================] - 1s 417us/step - loss: 40387.9291 - mean_squared_error: 40387.9291 - val_loss: 14516.3100 - val_mean_squared_error: 14516.3100\n",
      "Epoch 41/100\n",
      "1610/1610 [==============================] - 1s 410us/step - loss: 41172.5052 - mean_squared_error: 41172.5052 - val_loss: 14220.3734 - val_mean_squared_error: 14220.3734\n",
      "Epoch 42/100\n",
      "1610/1610 [==============================] - 1s 408us/step - loss: 43445.6322 - mean_squared_error: 43445.6322 - val_loss: 14169.5219 - val_mean_squared_error: 14169.5219\n",
      "Epoch 43/100\n",
      "1610/1610 [==============================] - 1s 439us/step - loss: 40091.8004 - mean_squared_error: 40091.8004 - val_loss: 14542.8805 - val_mean_squared_error: 14542.8805\n",
      "Epoch 00043: early stopping\n",
      "1610/1610 [==============================] - 0s 115us/step\n",
      "MSE Train loss: [21155.63554551024, 21155.63554551024]\n",
      "396/396 [==============================] - 0s 149us/step\n",
      "MSE Test loss: [14542.880518441249, 14542.880518441249]\n"
     ]
    }
   ],
   "source": [
    "model_regression.compile(loss='mean_squared_error', optimizer='adam', metrics=['mse'])\n",
    "# simple early stopping\n",
    "es = EarlyStopping(monitor='val_loss', mode='min', verbose=1, patience=10)\n",
    "# fit model\n",
    "history_regression = model_regression.fit(X_train, y_train_regression,validation_data=(X_test, y_test_regression), epochs=epochs, batch_size=batch_size, shuffle=False, callbacks=[es])\n",
    "y_pred_regression = model_regression.predict(X_test)\n",
    "# evaluate the model\n",
    "print('MSE Train loss:', model_regression.evaluate(X_train, y_train_regression, batch_size=batch_size))\n",
    "print('MSE Test loss:', model_regression.evaluate(X_test, y_test_regression, batch_size=batch_size))\n"
   ]
  },
  {
   "cell_type": "code",
   "execution_count": 25,
   "metadata": {},
   "outputs": [
    {
     "data": {
      "image/png": "[encoded data removed]",
      "text/plain": [
       "<Figure size 432x288 with 1 Axes>"
      ]
     },
     "metadata": {
      "needs_background": "light"
     },
     "output_type": "display_data"
    }
   ],
   "source": [
    "# plot training history\n",
    "plt.plot(y_test_regression, label='test')\n",
    "plt.plot(y_pred_regression, label='pred')\n",
    "plt.legend()\n",
    "plt.show()"
   ]
  },
  {
   "cell_type": "code",
   "execution_count": null,
   "metadata": {},
   "outputs": [],
   "source": []
  }
 ],
 "metadata": {
  "kernelspec": {
   "display_name": "Python [conda env:py35]",
   "language": "python",
   "name": "conda-env-py35-py"
  },
  "language_info": {
   "codemirror_mode": {
    "name": "ipython",
    "version": 3
   },
   "file_extension": ".py",
   "mimetype": "text/x-python",
   "name": "python",
   "nbconvert_exporter": "python",
   "pygments_lexer": "ipython3",
   "version": "3.5.6"
  }
 },
 "nbformat": 4,
 "nbformat_minor": 2
}
